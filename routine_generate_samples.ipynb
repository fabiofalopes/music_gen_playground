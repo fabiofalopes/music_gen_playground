{
  "cells": [
    {
      "cell_type": "code",
      "execution_count": 1,
      "metadata": {
        "id": "ku0ui5lKwpF7"
      },
      "outputs": [
        {
          "name": "stdout",
          "output_type": "stream",
          "text": [
            "Collecting audiocraft\n",
            "  Cloning https://github.com/facebookresearch/audiocraft to /tmp/pip-install-k3xa9ww4/audiocraft_6a8c6f95dd7a40adba9f43a67e6c85cf\n",
            "  Running command git clone --filter=blob:none --quiet https://github.com/facebookresearch/audiocraft /tmp/pip-install-k3xa9ww4/audiocraft_6a8c6f95dd7a40adba9f43a67e6c85cf\n",
            "  Resolved https://github.com/facebookresearch/audiocraft to commit adf0b04a4452f171970028fcf80f101dd5e26e19\n",
            "  Preparing metadata (setup.py) ... \u001b[?25ldone\n",
            "\u001b[?25hRequirement already satisfied: av==11.0.0 in ./.venv/lib/python3.10/site-packages (from audiocraft) (11.0.0)\n",
            "Requirement already satisfied: demucs in ./.venv/lib/python3.10/site-packages (from audiocraft) (4.0.1)\n",
            "Requirement already satisfied: einops in ./.venv/lib/python3.10/site-packages (from audiocraft) (0.8.0)\n",
            "Requirement already satisfied: encodec in ./.venv/lib/python3.10/site-packages (from audiocraft) (0.1.1)\n",
            "Requirement already satisfied: flashy>=0.0.1 in ./.venv/lib/python3.10/site-packages (from audiocraft) (0.0.2)\n",
            "Requirement already satisfied: gradio in ./.venv/lib/python3.10/site-packages (from audiocraft) (4.42.0)\n",
            "Requirement already satisfied: huggingface_hub in ./.venv/lib/python3.10/site-packages (from audiocraft) (0.24.6)\n",
            "Requirement already satisfied: hydra-core>=1.1 in ./.venv/lib/python3.10/site-packages (from audiocraft) (1.3.2)\n",
            "Requirement already satisfied: hydra_colorlog in ./.venv/lib/python3.10/site-packages (from audiocraft) (1.2.0)\n",
            "Requirement already satisfied: julius in ./.venv/lib/python3.10/site-packages (from audiocraft) (0.2.7)\n",
            "Requirement already satisfied: librosa in ./.venv/lib/python3.10/site-packages (from audiocraft) (0.10.2.post1)\n",
            "Requirement already satisfied: num2words in ./.venv/lib/python3.10/site-packages (from audiocraft) (0.5.13)\n",
            "Requirement already satisfied: numpy<2.0.0 in ./.venv/lib/python3.10/site-packages (from audiocraft) (1.26.4)\n",
            "Requirement already satisfied: pesq in ./.venv/lib/python3.10/site-packages (from audiocraft) (0.0.4)\n",
            "Requirement already satisfied: protobuf in ./.venv/lib/python3.10/site-packages (from audiocraft) (5.28.0)\n",
            "Requirement already satisfied: pystoi in ./.venv/lib/python3.10/site-packages (from audiocraft) (0.4.1)\n",
            "Requirement already satisfied: sentencepiece in ./.venv/lib/python3.10/site-packages (from audiocraft) (0.2.0)\n",
            "Requirement already satisfied: soundfile in ./.venv/lib/python3.10/site-packages (from audiocraft) (0.12.1)\n",
            "Requirement already satisfied: spacy>=3.6.1 in ./.venv/lib/python3.10/site-packages (from audiocraft) (3.7.6)\n",
            "Requirement already satisfied: torch==2.1.0 in ./.venv/lib/python3.10/site-packages (from audiocraft) (2.1.0)\n",
            "Requirement already satisfied: torchaudio<2.1.2,>=2.0.0 in ./.venv/lib/python3.10/site-packages (from audiocraft) (2.1.0)\n",
            "Requirement already satisfied: torchmetrics in ./.venv/lib/python3.10/site-packages (from audiocraft) (1.4.1)\n",
            "Requirement already satisfied: torchtext==0.16.0 in ./.venv/lib/python3.10/site-packages (from audiocraft) (0.16.0)\n",
            "Requirement already satisfied: torchvision==0.16.0 in ./.venv/lib/python3.10/site-packages (from audiocraft) (0.16.0)\n",
            "Requirement already satisfied: tqdm in ./.venv/lib/python3.10/site-packages (from audiocraft) (4.66.5)\n",
            "Requirement already satisfied: transformers>=4.31.0 in ./.venv/lib/python3.10/site-packages (from audiocraft) (4.44.2)\n",
            "Requirement already satisfied: xformers<0.0.23 in ./.venv/lib/python3.10/site-packages (from audiocraft) (0.0.22.post7)\n",
            "Requirement already satisfied: nvidia-nccl-cu12==2.18.1 in ./.venv/lib/python3.10/site-packages (from torch==2.1.0->audiocraft) (2.18.1)\n",
            "Requirement already satisfied: triton==2.1.0 in ./.venv/lib/python3.10/site-packages (from torch==2.1.0->audiocraft) (2.1.0)\n",
            "Requirement already satisfied: networkx in ./.venv/lib/python3.10/site-packages (from torch==2.1.0->audiocraft) (3.3)\n",
            "Requirement already satisfied: nvidia-cublas-cu12==12.1.3.1 in ./.venv/lib/python3.10/site-packages (from torch==2.1.0->audiocraft) (12.1.3.1)\n",
            "Requirement already satisfied: sympy in ./.venv/lib/python3.10/site-packages (from torch==2.1.0->audiocraft) (1.13.2)\n",
            "Requirement already satisfied: nvidia-cusparse-cu12==12.1.0.106 in ./.venv/lib/python3.10/site-packages (from torch==2.1.0->audiocraft) (12.1.0.106)\n",
            "Requirement already satisfied: nvidia-curand-cu12==10.3.2.106 in ./.venv/lib/python3.10/site-packages (from torch==2.1.0->audiocraft) (10.3.2.106)\n",
            "Requirement already satisfied: typing-extensions in ./.venv/lib/python3.10/site-packages (from torch==2.1.0->audiocraft) (4.12.2)\n",
            "Requirement already satisfied: nvidia-cuda-cupti-cu12==12.1.105 in ./.venv/lib/python3.10/site-packages (from torch==2.1.0->audiocraft) (12.1.105)\n",
            "Requirement already satisfied: fsspec in ./.venv/lib/python3.10/site-packages (from torch==2.1.0->audiocraft) (2024.6.1)\n",
            "Requirement already satisfied: nvidia-cufft-cu12==11.0.2.54 in ./.venv/lib/python3.10/site-packages (from torch==2.1.0->audiocraft) (11.0.2.54)\n",
            "Requirement already satisfied: nvidia-nvtx-cu12==12.1.105 in ./.venv/lib/python3.10/site-packages (from torch==2.1.0->audiocraft) (12.1.105)\n",
            "Requirement already satisfied: nvidia-cuda-nvrtc-cu12==12.1.105 in ./.venv/lib/python3.10/site-packages (from torch==2.1.0->audiocraft) (12.1.105)\n",
            "Requirement already satisfied: nvidia-cusolver-cu12==11.4.5.107 in ./.venv/lib/python3.10/site-packages (from torch==2.1.0->audiocraft) (11.4.5.107)\n",
            "Requirement already satisfied: filelock in ./.venv/lib/python3.10/site-packages (from torch==2.1.0->audiocraft) (3.15.4)\n",
            "Requirement already satisfied: nvidia-cuda-runtime-cu12==12.1.105 in ./.venv/lib/python3.10/site-packages (from torch==2.1.0->audiocraft) (12.1.105)\n",
            "Requirement already satisfied: jinja2 in ./.venv/lib/python3.10/site-packages (from torch==2.1.0->audiocraft) (3.1.4)\n",
            "Requirement already satisfied: nvidia-cudnn-cu12==8.9.2.26 in ./.venv/lib/python3.10/site-packages (from torch==2.1.0->audiocraft) (8.9.2.26)\n",
            "Requirement already satisfied: torchdata==0.7.0 in ./.venv/lib/python3.10/site-packages (from torchtext==0.16.0->audiocraft) (0.7.0)\n",
            "Requirement already satisfied: requests in ./.venv/lib/python3.10/site-packages (from torchtext==0.16.0->audiocraft) (2.32.3)\n",
            "Requirement already satisfied: pillow!=8.3.*,>=5.3.0 in ./.venv/lib/python3.10/site-packages (from torchvision==0.16.0->audiocraft) (10.4.0)\n",
            "Requirement already satisfied: nvidia-nvjitlink-cu12 in ./.venv/lib/python3.10/site-packages (from nvidia-cusolver-cu12==11.4.5.107->torch==2.1.0->audiocraft) (12.6.68)\n",
            "Requirement already satisfied: urllib3>=1.25 in ./.venv/lib/python3.10/site-packages (from torchdata==0.7.0->torchtext==0.16.0->audiocraft) (2.2.2)\n",
            "Requirement already satisfied: colorlog in ./.venv/lib/python3.10/site-packages (from flashy>=0.0.1->audiocraft) (6.8.2)\n",
            "Requirement already satisfied: dora-search in ./.venv/lib/python3.10/site-packages (from flashy>=0.0.1->audiocraft) (0.1.12)\n",
            "Requirement already satisfied: antlr4-python3-runtime==4.9.* in ./.venv/lib/python3.10/site-packages (from hydra-core>=1.1->audiocraft) (4.9.3)\n",
            "Requirement already satisfied: omegaconf<2.4,>=2.2 in ./.venv/lib/python3.10/site-packages (from hydra-core>=1.1->audiocraft) (2.3.0)\n",
            "Requirement already satisfied: packaging in ./.venv/lib/python3.10/site-packages (from hydra-core>=1.1->audiocraft) (24.1)\n",
            "Requirement already satisfied: weasel<0.5.0,>=0.1.0 in ./.venv/lib/python3.10/site-packages (from spacy>=3.6.1->audiocraft) (0.4.1)\n",
            "Requirement already satisfied: cymem<2.1.0,>=2.0.2 in ./.venv/lib/python3.10/site-packages (from spacy>=3.6.1->audiocraft) (2.0.8)\n",
            "Requirement already satisfied: catalogue<2.1.0,>=2.0.6 in ./.venv/lib/python3.10/site-packages (from spacy>=3.6.1->audiocraft) (2.0.10)\n",
            "Requirement already satisfied: pydantic!=1.8,!=1.8.1,<3.0.0,>=1.7.4 in ./.venv/lib/python3.10/site-packages (from spacy>=3.6.1->audiocraft) (2.8.2)\n",
            "Requirement already satisfied: preshed<3.1.0,>=3.0.2 in ./.venv/lib/python3.10/site-packages (from spacy>=3.6.1->audiocraft) (3.0.9)\n",
            "Requirement already satisfied: typer<1.0.0,>=0.3.0 in ./.venv/lib/python3.10/site-packages (from spacy>=3.6.1->audiocraft) (0.12.5)\n",
            "Requirement already satisfied: wasabi<1.2.0,>=0.9.1 in ./.venv/lib/python3.10/site-packages (from spacy>=3.6.1->audiocraft) (1.1.3)\n",
            "Requirement already satisfied: spacy-legacy<3.1.0,>=3.0.11 in ./.venv/lib/python3.10/site-packages (from spacy>=3.6.1->audiocraft) (3.0.12)\n",
            "Requirement already satisfied: thinc<8.3.0,>=8.2.2 in ./.venv/lib/python3.10/site-packages (from spacy>=3.6.1->audiocraft) (8.2.5)\n",
            "Requirement already satisfied: spacy-loggers<2.0.0,>=1.0.0 in ./.venv/lib/python3.10/site-packages (from spacy>=3.6.1->audiocraft) (1.0.5)\n",
            "Requirement already satisfied: murmurhash<1.1.0,>=0.28.0 in ./.venv/lib/python3.10/site-packages (from spacy>=3.6.1->audiocraft) (1.0.10)\n",
            "Requirement already satisfied: srsly<3.0.0,>=2.4.3 in ./.venv/lib/python3.10/site-packages (from spacy>=3.6.1->audiocraft) (2.4.8)\n",
            "Requirement already satisfied: langcodes<4.0.0,>=3.2.0 in ./.venv/lib/python3.10/site-packages (from spacy>=3.6.1->audiocraft) (3.4.0)\n",
            "Requirement already satisfied: setuptools in ./.venv/lib/python3.10/site-packages (from spacy>=3.6.1->audiocraft) (59.6.0)\n",
            "Requirement already satisfied: tokenizers<0.20,>=0.19 in ./.venv/lib/python3.10/site-packages (from transformers>=4.31.0->audiocraft) (0.19.1)\n",
            "Requirement already satisfied: pyyaml>=5.1 in ./.venv/lib/python3.10/site-packages (from transformers>=4.31.0->audiocraft) (6.0.2)\n",
            "Requirement already satisfied: regex!=2019.12.17 in ./.venv/lib/python3.10/site-packages (from transformers>=4.31.0->audiocraft) (2024.7.24)\n",
            "Requirement already satisfied: safetensors>=0.4.1 in ./.venv/lib/python3.10/site-packages (from transformers>=4.31.0->audiocraft) (0.4.4)\n",
            "Requirement already satisfied: lameenc>=1.2 in ./.venv/lib/python3.10/site-packages (from demucs->audiocraft) (1.7.0)\n",
            "Requirement already satisfied: openunmix in ./.venv/lib/python3.10/site-packages (from demucs->audiocraft) (1.3.0)\n",
            "Requirement already satisfied: orjson~=3.0 in ./.venv/lib/python3.10/site-packages (from gradio->audiocraft) (3.10.7)\n",
            "Requirement already satisfied: tomlkit==0.12.0 in ./.venv/lib/python3.10/site-packages (from gradio->audiocraft) (0.12.0)\n",
            "Requirement already satisfied: matplotlib~=3.0 in ./.venv/lib/python3.10/site-packages (from gradio->audiocraft) (3.9.2)\n",
            "Requirement already satisfied: pydub in ./.venv/lib/python3.10/site-packages (from gradio->audiocraft) (0.25.1)\n",
            "Requirement already satisfied: ffmpy in ./.venv/lib/python3.10/site-packages (from gradio->audiocraft) (0.4.0)\n",
            "Requirement already satisfied: anyio<5.0,>=3.0 in ./.venv/lib/python3.10/site-packages (from gradio->audiocraft) (4.4.0)\n",
            "Requirement already satisfied: httpx>=0.24.1 in ./.venv/lib/python3.10/site-packages (from gradio->audiocraft) (0.27.2)\n",
            "Requirement already satisfied: python-multipart>=0.0.9 in ./.venv/lib/python3.10/site-packages (from gradio->audiocraft) (0.0.9)\n",
            "Requirement already satisfied: ruff>=0.2.2 in ./.venv/lib/python3.10/site-packages (from gradio->audiocraft) (0.6.3)\n",
            "Requirement already satisfied: markupsafe~=2.0 in ./.venv/lib/python3.10/site-packages (from gradio->audiocraft) (2.1.5)\n",
            "Requirement already satisfied: importlib-resources<7.0,>=1.3 in ./.venv/lib/python3.10/site-packages (from gradio->audiocraft) (6.4.4)\n",
            "Requirement already satisfied: uvicorn>=0.14.0 in ./.venv/lib/python3.10/site-packages (from gradio->audiocraft) (0.30.6)\n",
            "Requirement already satisfied: gradio-client==1.3.0 in ./.venv/lib/python3.10/site-packages (from gradio->audiocraft) (1.3.0)\n",
            "Requirement already satisfied: aiofiles<24.0,>=22.0 in ./.venv/lib/python3.10/site-packages (from gradio->audiocraft) (23.2.1)\n",
            "Requirement already satisfied: semantic-version~=2.0 in ./.venv/lib/python3.10/site-packages (from gradio->audiocraft) (2.10.0)\n",
            "Requirement already satisfied: fastapi in ./.venv/lib/python3.10/site-packages (from gradio->audiocraft) (0.112.2)\n",
            "Requirement already satisfied: pandas<3.0,>=1.0 in ./.venv/lib/python3.10/site-packages (from gradio->audiocraft) (2.2.2)\n",
            "Requirement already satisfied: websockets<13.0,>=10.0 in ./.venv/lib/python3.10/site-packages (from gradio-client==1.3.0->gradio->audiocraft) (12.0)\n",
            "Requirement already satisfied: decorator>=4.3.0 in ./.venv/lib/python3.10/site-packages (from librosa->audiocraft) (5.1.1)\n",
            "Requirement already satisfied: scipy>=1.2.0 in ./.venv/lib/python3.10/site-packages (from librosa->audiocraft) (1.14.1)\n",
            "Requirement already satisfied: numba>=0.51.0 in ./.venv/lib/python3.10/site-packages (from librosa->audiocraft) (0.60.0)\n",
            "Requirement already satisfied: pooch>=1.1 in ./.venv/lib/python3.10/site-packages (from librosa->audiocraft) (1.8.2)\n",
            "Requirement already satisfied: joblib>=0.14 in ./.venv/lib/python3.10/site-packages (from librosa->audiocraft) (1.4.2)\n",
            "Requirement already satisfied: lazy-loader>=0.1 in ./.venv/lib/python3.10/site-packages (from librosa->audiocraft) (0.4)\n",
            "Requirement already satisfied: scikit-learn>=0.20.0 in ./.venv/lib/python3.10/site-packages (from librosa->audiocraft) (1.5.1)\n",
            "Requirement already satisfied: msgpack>=1.0 in ./.venv/lib/python3.10/site-packages (from librosa->audiocraft) (1.0.8)\n",
            "Requirement already satisfied: soxr>=0.3.2 in ./.venv/lib/python3.10/site-packages (from librosa->audiocraft) (0.5.0.post1)\n",
            "Requirement already satisfied: audioread>=2.1.9 in ./.venv/lib/python3.10/site-packages (from librosa->audiocraft) (3.0.1)\n",
            "Requirement already satisfied: cffi>=1.0 in ./.venv/lib/python3.10/site-packages (from soundfile->audiocraft) (1.17.0)\n",
            "Requirement already satisfied: docopt>=0.6.2 in ./.venv/lib/python3.10/site-packages (from num2words->audiocraft) (0.6.2)\n",
            "Requirement already satisfied: lightning-utilities>=0.8.0 in ./.venv/lib/python3.10/site-packages (from torchmetrics->audiocraft) (0.11.7)\n",
            "Requirement already satisfied: idna>=2.8 in ./.venv/lib/python3.10/site-packages (from anyio<5.0,>=3.0->gradio->audiocraft) (3.8)\n",
            "Requirement already satisfied: sniffio>=1.1 in ./.venv/lib/python3.10/site-packages (from anyio<5.0,>=3.0->gradio->audiocraft) (1.3.1)\n",
            "Requirement already satisfied: exceptiongroup>=1.0.2 in ./.venv/lib/python3.10/site-packages (from anyio<5.0,>=3.0->gradio->audiocraft) (1.2.2)\n",
            "Requirement already satisfied: pycparser in ./.venv/lib/python3.10/site-packages (from cffi>=1.0->soundfile->audiocraft) (2.22)\n",
            "Requirement already satisfied: certifi in ./.venv/lib/python3.10/site-packages (from httpx>=0.24.1->gradio->audiocraft) (2024.8.30)\n",
            "Requirement already satisfied: httpcore==1.* in ./.venv/lib/python3.10/site-packages (from httpx>=0.24.1->gradio->audiocraft) (1.0.5)\n",
            "Requirement already satisfied: h11<0.15,>=0.13 in ./.venv/lib/python3.10/site-packages (from httpcore==1.*->httpx>=0.24.1->gradio->audiocraft) (0.14.0)\n",
            "Requirement already satisfied: language-data>=1.2 in ./.venv/lib/python3.10/site-packages (from langcodes<4.0.0,>=3.2.0->spacy>=3.6.1->audiocraft) (1.2.0)\n",
            "Requirement already satisfied: contourpy>=1.0.1 in ./.venv/lib/python3.10/site-packages (from matplotlib~=3.0->gradio->audiocraft) (1.3.0)\n",
            "Requirement already satisfied: kiwisolver>=1.3.1 in ./.venv/lib/python3.10/site-packages (from matplotlib~=3.0->gradio->audiocraft) (1.4.5)\n",
            "Requirement already satisfied: python-dateutil>=2.7 in ./.venv/lib/python3.10/site-packages (from matplotlib~=3.0->gradio->audiocraft) (2.9.0.post0)\n",
            "Requirement already satisfied: cycler>=0.10 in ./.venv/lib/python3.10/site-packages (from matplotlib~=3.0->gradio->audiocraft) (0.12.1)\n",
            "Requirement already satisfied: pyparsing>=2.3.1 in ./.venv/lib/python3.10/site-packages (from matplotlib~=3.0->gradio->audiocraft) (3.1.4)\n",
            "Requirement already satisfied: fonttools>=4.22.0 in ./.venv/lib/python3.10/site-packages (from matplotlib~=3.0->gradio->audiocraft) (4.53.1)\n",
            "Requirement already satisfied: llvmlite<0.44,>=0.43.0dev0 in ./.venv/lib/python3.10/site-packages (from numba>=0.51.0->librosa->audiocraft) (0.43.0)\n",
            "Requirement already satisfied: tzdata>=2022.7 in ./.venv/lib/python3.10/site-packages (from pandas<3.0,>=1.0->gradio->audiocraft) (2024.1)\n",
            "Requirement already satisfied: pytz>=2020.1 in ./.venv/lib/python3.10/site-packages (from pandas<3.0,>=1.0->gradio->audiocraft) (2024.1)\n",
            "Requirement already satisfied: platformdirs>=2.5.0 in ./.venv/lib/python3.10/site-packages (from pooch>=1.1->librosa->audiocraft) (4.2.2)\n",
            "Requirement already satisfied: annotated-types>=0.4.0 in ./.venv/lib/python3.10/site-packages (from pydantic!=1.8,!=1.8.1,<3.0.0,>=1.7.4->spacy>=3.6.1->audiocraft) (0.7.0)\n",
            "Requirement already satisfied: pydantic-core==2.20.1 in ./.venv/lib/python3.10/site-packages (from pydantic!=1.8,!=1.8.1,<3.0.0,>=1.7.4->spacy>=3.6.1->audiocraft) (2.20.1)\n",
            "Requirement already satisfied: charset-normalizer<4,>=2 in ./.venv/lib/python3.10/site-packages (from requests->torchtext==0.16.0->audiocraft) (3.3.2)\n",
            "Requirement already satisfied: threadpoolctl>=3.1.0 in ./.venv/lib/python3.10/site-packages (from scikit-learn>=0.20.0->librosa->audiocraft) (3.5.0)\n",
            "Requirement already satisfied: blis<0.8.0,>=0.7.8 in ./.venv/lib/python3.10/site-packages (from thinc<8.3.0,>=8.2.2->spacy>=3.6.1->audiocraft) (0.7.11)\n",
            "Requirement already satisfied: confection<1.0.0,>=0.0.1 in ./.venv/lib/python3.10/site-packages (from thinc<8.3.0,>=8.2.2->spacy>=3.6.1->audiocraft) (0.1.5)\n",
            "Requirement already satisfied: shellingham>=1.3.0 in ./.venv/lib/python3.10/site-packages (from typer<1.0.0,>=0.3.0->spacy>=3.6.1->audiocraft) (1.5.4)\n",
            "Requirement already satisfied: rich>=10.11.0 in ./.venv/lib/python3.10/site-packages (from typer<1.0.0,>=0.3.0->spacy>=3.6.1->audiocraft) (13.8.0)\n",
            "Requirement already satisfied: click>=8.0.0 in ./.venv/lib/python3.10/site-packages (from typer<1.0.0,>=0.3.0->spacy>=3.6.1->audiocraft) (8.1.7)\n",
            "Requirement already satisfied: cloudpathlib<1.0.0,>=0.7.0 in ./.venv/lib/python3.10/site-packages (from weasel<0.5.0,>=0.1.0->spacy>=3.6.1->audiocraft) (0.19.0)\n",
            "Requirement already satisfied: smart-open<8.0.0,>=5.2.1 in ./.venv/lib/python3.10/site-packages (from weasel<0.5.0,>=0.1.0->spacy>=3.6.1->audiocraft) (7.0.4)\n",
            "Requirement already satisfied: treetable in ./.venv/lib/python3.10/site-packages (from dora-search->flashy>=0.0.1->audiocraft) (0.2.5)\n",
            "Requirement already satisfied: submitit in ./.venv/lib/python3.10/site-packages (from dora-search->flashy>=0.0.1->audiocraft) (1.5.1)\n",
            "Requirement already satisfied: retrying in ./.venv/lib/python3.10/site-packages (from dora-search->flashy>=0.0.1->audiocraft) (1.3.4)\n",
            "Requirement already satisfied: starlette<0.39.0,>=0.37.2 in ./.venv/lib/python3.10/site-packages (from fastapi->gradio->audiocraft) (0.38.4)\n",
            "Requirement already satisfied: mpmath<1.4,>=1.1.0 in ./.venv/lib/python3.10/site-packages (from sympy->torch==2.1.0->audiocraft) (1.3.0)\n",
            "Requirement already satisfied: marisa-trie>=0.7.7 in ./.venv/lib/python3.10/site-packages (from language-data>=1.2->langcodes<4.0.0,>=3.2.0->spacy>=3.6.1->audiocraft) (1.2.0)\n",
            "Requirement already satisfied: six>=1.5 in ./.venv/lib/python3.10/site-packages (from python-dateutil>=2.7->matplotlib~=3.0->gradio->audiocraft) (1.16.0)\n",
            "Requirement already satisfied: pygments<3.0.0,>=2.13.0 in ./.venv/lib/python3.10/site-packages (from rich>=10.11.0->typer<1.0.0,>=0.3.0->spacy>=3.6.1->audiocraft) (2.18.0)\n",
            "Requirement already satisfied: markdown-it-py>=2.2.0 in ./.venv/lib/python3.10/site-packages (from rich>=10.11.0->typer<1.0.0,>=0.3.0->spacy>=3.6.1->audiocraft) (3.0.0)\n",
            "Requirement already satisfied: wrapt in ./.venv/lib/python3.10/site-packages (from smart-open<8.0.0,>=5.2.1->weasel<0.5.0,>=0.1.0->spacy>=3.6.1->audiocraft) (1.16.0)\n",
            "Requirement already satisfied: cloudpickle>=1.2.1 in ./.venv/lib/python3.10/site-packages (from submitit->dora-search->flashy>=0.0.1->audiocraft) (3.0.0)\n",
            "Requirement already satisfied: mdurl~=0.1 in ./.venv/lib/python3.10/site-packages (from markdown-it-py>=2.2.0->rich>=10.11.0->typer<1.0.0,>=0.3.0->spacy>=3.6.1->audiocraft) (0.1.2)\n"
          ]
        }
      ],
      "source": [
        "!python3 -m pip install -U git+https://github.com/facebookresearch/audiocraft#egg=audiocraft\n",
        "# !python3 -m pip install -U audiocraft"
      ]
    },
    {
      "cell_type": "code",
      "execution_count": 2,
      "metadata": {
        "id": "YVgeUMjoZaJH"
      },
      "outputs": [
        {
          "name": "stderr",
          "output_type": "stream",
          "text": [
            "/home/csi/MusicGen/.venv/lib/python3.10/site-packages/tqdm/auto.py:21: TqdmWarning: IProgress not found. Please update jupyter and ipywidgets. See https://ipywidgets.readthedocs.io/en/stable/user_install.html\n",
            "  from .autonotebook import tqdm as notebook_tqdm\n"
          ]
        }
      ],
      "source": [
        "from audiocraft.models import musicgen\n",
        "from audiocraft.utils.notebook import display_audio\n",
        "import torch\n",
        "\n",
        "import numpy as np\n",
        "import torch\n",
        "import scipy.io.wavfile as wavfile\n",
        "from IPython.display import FileLink"
      ]
    },
    {
      "cell_type": "code",
      "execution_count": 3,
      "metadata": {
        "id": "yc_FYhbWZufi"
      },
      "outputs": [
        {
          "name": "stderr",
          "output_type": "stream",
          "text": [
            "/home/csi/MusicGen/.venv/lib/python3.10/site-packages/audiocraft/models/musicgen.py:80: UserWarning: MusicGen pretrained model relying on deprecated checkpoint mapping. Please use full pre-trained id instead: facebook/musicgen-medium\n",
            "  warnings.warn(\n"
          ]
        },
        {
          "ename": "",
          "evalue": "",
          "output_type": "error",
          "traceback": [
            "\u001b[1;31mCannot execute code, session has been disposed. Please try restarting the Kernel."
          ]
        },
        {
          "ename": "",
          "evalue": "",
          "output_type": "error",
          "traceback": [
            "\u001b[1;31mThe Kernel crashed while executing code in the the current cell or a previous cell. Please review the code in the cell(s) to identify a possible cause of the failure. Click <a href='https://aka.ms/vscodeJupyterKernelCrash'>here</a> for more info. View Jupyter <a href='command:jupyter.viewOutput'>log</a> for further details."
          ]
        }
      ],
      "source": [
        "model = musicgen.MusicGen.get_pretrained('facebook/musicgen-medium', device='cuda')\n",
        "model.set_generation_params(duration=200)"
      ]
    },
    {
      "cell_type": "code",
      "execution_count": null,
      "metadata": {
        "id": "32g-tH7IZz5N"
      },
      "outputs": [],
      "source": [
        "res = model.generate([\n",
        "    'A legato, oriental-inspired melody for solo synthesizer, featuring a warm, analog-like timbre with a mix of microtones and Middle Eastern modal inflections.',\n",
        "],\n",
        "    progress=True)\n",
        "display_audio(res, 32000)\n",
        "\n",
        "# Move the tensor to CPU if it's on GPU and convert to NumPy array\n",
        "audio = res.cpu().numpy()\n",
        "\n",
        "# Save the audio file\n",
        "filename = \"koto_shamisen_m.wav\"\n",
        "sample_rate = 32000  # Sample rate used in display_audio\n",
        "wavfile.write(filename, sample_rate, audio_data)\n",
        "\n",
        "# Provide a download link\n",
        "display(FileLink(filename))"
      ]
    },
    {
      "cell_type": "markdown",
      "metadata": {
        "id": "yP3FfELNw6_k"
      },
      "source": [
        "See our repo https://github.com/facebookresearch/audiocraft for more details on how to use this model!\n",
        "\n",
        "See also [MusicGen Gradio Demo](https://colab.research.google.com/drive/1-Xe9NCdIs2sCUbiSmwHXozK6AAhMm7_i?usp=sharing) for a Colab using the Gradio app instead!\n"
      ]
    },
    {
      "cell_type": "code",
      "execution_count": 3,
      "metadata": {},
      "outputs": [
        {
          "name": "stdout",
          "output_type": "stream",
          "text": [
            "Requirement already satisfied: groq in ./.venv/lib/python3.11/site-packages (0.11.0)\n",
            "Collecting requests\n",
            "  Using cached requests-2.32.3-py3-none-any.whl (64 kB)\n",
            "Requirement already satisfied: anyio<5,>=3.5.0 in ./.venv/lib/python3.11/site-packages (from groq) (4.4.0)\n",
            "Requirement already satisfied: distro<2,>=1.7.0 in ./.venv/lib/python3.11/site-packages (from groq) (1.9.0)\n",
            "Requirement already satisfied: httpx<1,>=0.23.0 in ./.venv/lib/python3.11/site-packages (from groq) (0.27.2)\n",
            "Requirement already satisfied: pydantic<3,>=1.9.0 in ./.venv/lib/python3.11/site-packages (from groq) (2.8.2)\n",
            "Requirement already satisfied: sniffio in ./.venv/lib/python3.11/site-packages (from groq) (1.3.1)\n",
            "Requirement already satisfied: typing-extensions<5,>=4.7 in ./.venv/lib/python3.11/site-packages (from groq) (4.12.2)\n",
            "Collecting charset-normalizer<4,>=2\n",
            "  Using cached charset_normalizer-3.3.2-cp311-cp311-manylinux_2_17_x86_64.manylinux2014_x86_64.whl (140 kB)\n",
            "Requirement already satisfied: idna<4,>=2.5 in ./.venv/lib/python3.11/site-packages (from requests) (3.8)\n",
            "Collecting urllib3<3,>=1.21.1\n",
            "  Using cached urllib3-2.2.2-py3-none-any.whl (121 kB)\n",
            "Requirement already satisfied: certifi>=2017.4.17 in ./.venv/lib/python3.11/site-packages (from requests) (2024.8.30)\n",
            "Requirement already satisfied: httpcore==1.* in ./.venv/lib/python3.11/site-packages (from httpx<1,>=0.23.0->groq) (1.0.5)\n",
            "Requirement already satisfied: h11<0.15,>=0.13 in ./.venv/lib/python3.11/site-packages (from httpcore==1.*->httpx<1,>=0.23.0->groq) (0.14.0)\n",
            "Requirement already satisfied: annotated-types>=0.4.0 in ./.venv/lib/python3.11/site-packages (from pydantic<3,>=1.9.0->groq) (0.7.0)\n",
            "Requirement already satisfied: pydantic-core==2.20.1 in ./.venv/lib/python3.11/site-packages (from pydantic<3,>=1.9.0->groq) (2.20.1)\n",
            "Installing collected packages: urllib3, charset-normalizer, requests\n",
            "Successfully installed charset-normalizer-3.3.2 requests-2.32.3 urllib3-2.2.2\n"
          ]
        }
      ],
      "source": [
        "!pip install groq requests"
      ]
    },
    {
      "cell_type": "code",
      "execution_count": 2,
      "metadata": {},
      "outputs": [],
      "source": [
        "import os\n",
        "from groq import Groq\n",
        "\n",
        "# Load API key from .env file\n",
        "api_key = os.getenv(\"GROQ_API_KEY\")\n",
        "\n",
        "models = [\n",
        "    'gemma-7b-it', \n",
        "    'gemma2-9b-it',\n",
        "    'mixtral-8x7b-32768',\n",
        "    'llama3-8b-8192',\n",
        "    'llama3-70b-8192',\n",
        "    'llama3-groq-8b-8192-tool-use-preview',\n",
        "    'llama3-groq-70b-8192-tool-use-preview',\n",
        "    'llama-3.1-8b-instant',\n",
        "    'llama-3.1-70b-versatile',\n",
        "    'llama-guard-3-8b',\n",
        "]\n",
        "# Check if API key is set\n",
        "if not api_key:\n",
        "    raise ValueError(\"GROQ_API_KEY is not set in .env file\")\n",
        "\n",
        "# Create a Groq client\n",
        "groq_client = Groq(api_key=api_key)\n"
      ]
    },
    {
      "cell_type": "code",
      "execution_count": 214,
      "metadata": {},
      "outputs": [
        {
          "name": "stdout",
          "output_type": "stream",
          "text": [
            "**Genre:** Electronic, Ambient, Experimental\n",
            "\n",
            "**Description:** Piano arpeggios weave with synthesizer textures, supported by a steady kick drum and pulsing bassline. The tempo is moderate, around 100 BPM, with a driving 4/4 rhythm.\n"
          ]
        }
      ],
      "source": [
        "with open(\"system_seed.md\", \"r\") as f:\n",
        "    system_seed = f.read()\n",
        "\n",
        "musa_input = \"We are the music makers, and we are the dreamers of dreams.\"\n",
        "\n",
        "try:\n",
        "    file_name_responce = groq_client.chat.completions.create(\n",
        "        messages=[\n",
        "            {\"role\": \"system\", \"content\": system_seed},\n",
        "            {\"role\": \"user\", \"content\": musa_input}\n",
        "        ],\n",
        "        model=models[8],\n",
        "        temperature=0.9,  # adjust the temperature to your liking\n",
        "        max_tokens=1000,  # adjust the max tokens to your liking\n",
        "        top_p=0.5,  # adjust the top p to your liking\n",
        "        # stream=True,  # enable streaming\n",
        "    )\n",
        "    print(file_name_responce.choices[0].message.content)\n",
        "except Exception as e:\n",
        "    print(\"Error:\", str(e))"
      ]
    },
    {
      "cell_type": "code",
      "execution_count": 215,
      "metadata": {
        "id": "LMEhDDBWo-BS"
      },
      "outputs": [
        {
          "name": "stdout",
          "output_type": "stream",
          "text": [
            "- **Genre and Tags**: *Genre: Electronic | Subgenres: Ambient, Experimental | Tags: Synthesizers, Piano, AmbientTextures*\n",
            "- **Musical Description**: Piano arpeggios weave with synthesizer textures, supported by a steady kick drum and pulsing bassline. The tempo is moderate, around 100 BPM, with a driving 4/4 rhythm.\n"
          ]
        }
      ],
      "source": [
        "\n",
        "# Read system prompt from system.md file\n",
        "with open(\"system_create.md\", \"r\") as f:\n",
        "    system_prompt = f.read()\n",
        "\n",
        "# Define user input\n",
        "#user_input = \"We are the music makers, and we are the dreamers of dreams.\"\n",
        "user_input = file_name_responce.choices[0].message.content\n",
        "\n",
        "# Create chat completion\n",
        "try:\n",
        "    response = groq_client.chat.completions.create(\n",
        "        messages=[\n",
        "            {\"role\": \"system\", \"content\": system_prompt},\n",
        "            {\"role\": \"user\", \"content\": user_input}\n",
        "        ],\n",
        "        model=models[8],\n",
        "        temperature=0.8,  # adjust the temperature to your liking\n",
        "        max_tokens=200,  # adjust the max tokens to your liking\n",
        "        top_p=0.1,  # adjust the top p to your liking\n",
        "        # stream=True,  # enable streaming\n",
        "    )\n",
        "    print(response.choices[0].message.content)\n",
        "except Exception as e:\n",
        "    print(\"Error:\", str(e))"
      ]
    },
    {
      "cell_type": "code",
      "execution_count": 216,
      "metadata": {
        "id": "rojR90c5xFMY"
      },
      "outputs": [
        {
          "name": "stdout",
          "output_type": "stream",
          "text": [
            "ambient_experimental_piano_synthesizer \n",
            "\n"
          ]
        }
      ],
      "source": [
        "with open(\"system_generate_file_names.md\", \"r\") as f:\n",
        "    system_prompt_titles = f.read()\n",
        "\n",
        "try:\n",
        "    file_name_responce = groq_client.chat.completions.create(\n",
        "        messages=[\n",
        "            {\"role\": \"system\", \"content\": system_prompt_titles},\n",
        "            {\"role\": \"user\", \"content\": response.choices[0].message.content}\n",
        "        ],\n",
        "        model=models[1],\n",
        "        temperature=0.2,  # adjust the temperature to your liking\n",
        "        max_tokens=50,  # adjust the max tokens to your liking\n",
        "        top_p=0.3,  # adjust the top p to your liking\n",
        "        # stream=True,  # enable streaming\n",
        "    )\n",
        "    print(file_name_responce.choices[0].message.content)\n",
        "except Exception as e:\n",
        "    print(\"Error:\", str(e))"
      ]
    },
    {
      "cell_type": "code",
      "execution_count": 3,
      "metadata": {},
      "outputs": [],
      "source": [
        "from venv import logger\n",
        "\n",
        "\n",
        "def create_groq_chat_completion(\n",
        "          system_prompt, \n",
        "          user_input, \n",
        "          model='llama-3.1-8b-instant', \n",
        "          temperature=0.9, \n",
        "          max_tokens=1024, \n",
        "          top_p=0.8):\n",
        "        \"\"\"\n",
        "        Creates a chat completion.\n",
        "\n",
        "        Args:\n",
        "        - system_prompt (str): The system prompt.\n",
        "        - user_input (str): The user input.\n",
        "        - model (str): Model name. Defaults to 'llama-3.1-8b-instant'.\n",
        "        - temperature (float, optional): The temperature. Defaults to 0.9.\n",
        "        - max_tokens (int, optional): The maximum tokens. Defaults to 1024.\n",
        "        - top_p (float, optional): The top p. Defaults to 0.8.\n",
        "\n",
        "        Returns:\n",
        "        - str: The chat completion response.\n",
        "\n",
        "        Raises:\n",
        "        - Exception: If an error occurs.\n",
        "        \"\"\"\n",
        "        try:\n",
        "            response = groq_client.chat.completions.create(\n",
        "                messages=[\n",
        "                    {\"role\": \"system\", \"content\": system_prompt},\n",
        "                    {\"role\": \"user\", \"content\": user_input}\n",
        "                ],\n",
        "                model=model,\n",
        "                temperature=temperature,\n",
        "                max_tokens=max_tokens,\n",
        "                top_p=top_p,\n",
        "            )\n",
        "            return response.choices[0].message.content\n",
        "        except Exception as e:\n",
        "            logger.error(f\"Error: {str(e)}\")\n",
        "            raise"
      ]
    },
    {
      "cell_type": "code",
      "execution_count": 4,
      "metadata": {},
      "outputs": [
        {
          "data": {
            "text/plain": [
              "'\\n# Usage\\npath = \"/path/to/your/directory\"\\nfilename = \"majestic_orchestral_waltz_uplifting_hope.wav\"\\nprint(increment_filename(path, filename))\\n'"
            ]
          },
          "execution_count": 4,
          "metadata": {},
          "output_type": "execute_result"
        }
      ],
      "source": [
        "import os\n",
        "\n",
        "def increment_filename(path, filename):\n",
        "    \"\"\"\n",
        "    Returns the filename with the proper increment if a file with the same name already exists in the specified path.\n",
        "    \n",
        "    Args:\n",
        "    path (str): The path to the directory to check in.\n",
        "    filename (str): The filename to check.\n",
        "    \n",
        "    Returns:\n",
        "    str: The filename with the proper increment.\n",
        "    \"\"\"\n",
        "    \n",
        "    # Split the filename into name and extension\n",
        "    name, extension = os.path.splitext(filename)\n",
        "    \n",
        "    # Initialize the counter\n",
        "    counter = 1\n",
        "    \n",
        "    # Construct the full path to the file\n",
        "    filepath = os.path.join(path, filename)\n",
        "    \n",
        "    # Check if the file exists\n",
        "    while os.path.isfile(filepath):\n",
        "        # If the file exists, increment the counter and update the filename\n",
        "        filename = f\"{name}_{counter}{extension}\"\n",
        "        filepath = os.path.join(path, filename)\n",
        "        counter += 1\n",
        "    \n",
        "    # Remove the extra increment from the filename\n",
        "    filename = filename.replace(f\"_{counter - 1}{extension}\", \"\")\n",
        "    filename_with_increment = f\"{name}_{counter - 1}{extension}\"\n",
        "    \n",
        "    return filename_with_increment\n",
        "\n",
        "\n",
        "'''\n",
        "# Usage\n",
        "path = \"/path/to/your/directory\"\n",
        "filename = \"majestic_orchestral_waltz_uplifting_hope.wav\"\n",
        "print(increment_filename(path, filename))\n",
        "'''"
      ]
    },
    {
      "cell_type": "code",
      "execution_count": 5,
      "metadata": {},
      "outputs": [
        {
          "name": "stdout",
          "output_type": "stream",
          "text": [
            "Folder 'bulk' already exists.\n"
          ]
        }
      ],
      "source": [
        "folder_path = \"bulk\"\n",
        "\n",
        "try:\n",
        "    if not os.path.exists(folder_path):\n",
        "        os.makedirs(folder_path)\n",
        "        print(f\"Folder '{folder_path}' created successfully.\")\n",
        "    else:\n",
        "        print(f\"Folder '{folder_path}' already exists.\")\n",
        "except OSError as e:\n",
        "    print(f\"Error creating folder: {e}\")"
      ]
    },
    {
      "cell_type": "code",
      "execution_count": 6,
      "metadata": {},
      "outputs": [
        {
          "name": "stdout",
          "output_type": "stream",
          "text": [
            "Tempo: Moderate. \n",
            "Rhythm: Intricate polyrhythms, steady kick drum. \n",
            "Melody: Soaring violin lines, haunting cello motifs. \n",
            "Harmony: Minor keys, suspended chords, modal interchange. \n",
            "Instruments: Piano, violin, cello, double bass, drums. \n",
            "Groove: Insistent, driving. \n",
            "Dynamics: Crescendo, dramatic swells. \n",
            "Setting: Concert hall, cinematic score.\n",
            "---\n",
            "- **Genre and Tags**: *Genre: Classical | Subgenres: Chamber, Cinematic*\n",
            "- **Musical Description**: A dramatic, cinematic piece unfolds with intricate polyrhythms, driven by a steady kick drum and insistent piano arpeggios. Soaring violin lines dance above haunting cello motifs, while the double bass provides a pulsing foundation. Suspended chords and modal interchange create tension, building towards a crescendo of dramatic swells, evoking a sense of urgency and emotional depth.\n",
            "---\n",
            "cinematic_chamber_music_dramatic_crescendo \n",
            "_0\n",
            "---\n",
            "Markdown file 'cinematic_chamber_music_dramatic_crescendo \n",
            "_0.md' has been created.\n"
          ]
        }
      ],
      "source": [
        "folder_path = \"bulk\"\n",
        "\n",
        "with open(\"system_prompts/system_seed.md\", \"r\") as f:\n",
        "    system_seed = f.read()\n",
        "\n",
        "with open(\"system_prompts/system_create.md\", \"r\") as f:\n",
        "    system_create = f.read()\n",
        "\n",
        "with open(\"system_prompts/system_generate_file_names.md\", \"r\") as f:\n",
        "    system_prompt_titles = f.read()\n",
        "\n",
        "seed_input = \"We are the music makers, and we are the dreamers of dreams.\"\n",
        "\n",
        "import time\n",
        "\n",
        "def wait_for_completion(result):\n",
        "    while result is None:\n",
        "        time.sleep(0.1)  # Wait for 100ms before checking again\n",
        "    return result\n",
        "\n",
        "def format_model_output(output, model, temperature, max_tokens, top_p):\n",
        "    formatted_output = f\"\"\"\n",
        "## Model Output\n",
        "- **Model:** {model}\n",
        "- **Temperature:** {temperature}\n",
        "- **Max Tokens:** {max_tokens}\n",
        "- **Top P:** {top_p}\n",
        "\n",
        "{output}\n",
        "\"\"\"\n",
        "    return formatted_output.strip()\n",
        "\n",
        "def save_to_markdown(file_path, file_name, *sections):\n",
        "    content = f\"# {file_name}\\n\\n\"\n",
        "    content += \"\\n\\n---\\n\\n\".join(sections)\n",
        "    \n",
        "    with open(f\"{file_path}/{file_name}.md\", \"w\") as f:\n",
        "        f.write(content)\n",
        "    \n",
        "    print(f\"Markdown file '{file_name}.md' has been created.\")\n",
        "\n",
        "seed_output = None\n",
        "seed_output = create_groq_chat_completion(system_seed, seed_input, model=models[8], temperature=0.9, max_tokens=1000, top_p=0.7)\n",
        "seed_output = wait_for_completion(seed_output)\n",
        "\n",
        "time.sleep(1)\n",
        "\n",
        "create_output = None\n",
        "create_output = create_groq_chat_completion(system_create, seed_output, model=models[8], temperature=0.8, max_tokens=200, top_p=0.5)\n",
        "create_output = wait_for_completion(create_output)\n",
        "\n",
        "time.sleep(1)\n",
        "\n",
        "file_name_output = None\n",
        "file_name_output = create_groq_chat_completion(system_prompt_titles, create_output, model=models[1], temperature=0.2, max_tokens=50, top_p=0.3)\n",
        "file_name_output = wait_for_completion(file_name_output)\n",
        "\n",
        "time.sleep(1)\n",
        "\n",
        "# After each model call, format the output:\n",
        "seed_formatted = format_model_output(seed_output, models[8], 0.9, 1000, 0.7)\n",
        "create_formatted = format_model_output(create_output, models[8], 0.8, 200, 0.5)\n",
        "file_name_formatted = format_model_output(file_name_output, models[1], 0.2, 50, 0.3)\n",
        "\n",
        "file_name_output = increment_filename(folder_path, file_name_output)\n",
        "\n",
        "print(seed_output)\n",
        "print(\"---\")\n",
        "print(create_output)\n",
        "print(\"---\")\n",
        "print(file_name_output)\n",
        "print(\"---\")\n",
        "\n",
        "save_to_markdown(folder_path, file_name_output, seed_formatted, create_formatted, file_name_formatted)"
      ]
    },
    {
      "cell_type": "code",
      "execution_count": null,
      "metadata": {},
      "outputs": [],
      "source": []
    }
  ],
  "metadata": {
    "accelerator": "GPU",
    "colab": {
      "gpuType": "T4",
      "provenance": []
    },
    "kernelspec": {
      "display_name": "Python 3",
      "name": "python3"
    },
    "language_info": {
      "codemirror_mode": {
        "name": "ipython",
        "version": 3
      },
      "file_extension": ".py",
      "mimetype": "text/x-python",
      "name": "python",
      "nbconvert_exporter": "python",
      "pygments_lexer": "ipython3",
      "version": "3.11.2"
    }
  },
  "nbformat": 4,
  "nbformat_minor": 0
}
