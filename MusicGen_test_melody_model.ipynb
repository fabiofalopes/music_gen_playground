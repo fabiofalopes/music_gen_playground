{
  "cells": [
    {
      "cell_type": "code",
      "execution_count": 1,
      "metadata": {
        "id": "ku0ui5lKwpF7"
      },
      "outputs": [
        {
          "name": "stdout",
          "output_type": "stream",
          "text": [
            "Collecting audiocraft\n",
            "  Cloning https://github.com/facebookresearch/audiocraft to /tmp/pip-install-k3xa9ww4/audiocraft_6a8c6f95dd7a40adba9f43a67e6c85cf\n",
            "  Running command git clone --filter=blob:none --quiet https://github.com/facebookresearch/audiocraft /tmp/pip-install-k3xa9ww4/audiocraft_6a8c6f95dd7a40adba9f43a67e6c85cf\n",
            "  Resolved https://github.com/facebookresearch/audiocraft to commit adf0b04a4452f171970028fcf80f101dd5e26e19\n",
            "  Preparing metadata (setup.py) ... \u001b[?25ldone\n",
            "\u001b[?25hRequirement already satisfied: av==11.0.0 in ./.venv/lib/python3.10/site-packages (from audiocraft) (11.0.0)\n",
            "Requirement already satisfied: demucs in ./.venv/lib/python3.10/site-packages (from audiocraft) (4.0.1)\n",
            "Requirement already satisfied: einops in ./.venv/lib/python3.10/site-packages (from audiocraft) (0.8.0)\n",
            "Requirement already satisfied: encodec in ./.venv/lib/python3.10/site-packages (from audiocraft) (0.1.1)\n",
            "Requirement already satisfied: flashy>=0.0.1 in ./.venv/lib/python3.10/site-packages (from audiocraft) (0.0.2)\n",
            "Requirement already satisfied: gradio in ./.venv/lib/python3.10/site-packages (from audiocraft) (4.42.0)\n",
            "Requirement already satisfied: huggingface_hub in ./.venv/lib/python3.10/site-packages (from audiocraft) (0.24.6)\n",
            "Requirement already satisfied: hydra-core>=1.1 in ./.venv/lib/python3.10/site-packages (from audiocraft) (1.3.2)\n",
            "Requirement already satisfied: hydra_colorlog in ./.venv/lib/python3.10/site-packages (from audiocraft) (1.2.0)\n",
            "Requirement already satisfied: julius in ./.venv/lib/python3.10/site-packages (from audiocraft) (0.2.7)\n",
            "Requirement already satisfied: librosa in ./.venv/lib/python3.10/site-packages (from audiocraft) (0.10.2.post1)\n",
            "Requirement already satisfied: num2words in ./.venv/lib/python3.10/site-packages (from audiocraft) (0.5.13)\n",
            "Requirement already satisfied: numpy<2.0.0 in ./.venv/lib/python3.10/site-packages (from audiocraft) (1.26.4)\n",
            "Requirement already satisfied: pesq in ./.venv/lib/python3.10/site-packages (from audiocraft) (0.0.4)\n",
            "Requirement already satisfied: protobuf in ./.venv/lib/python3.10/site-packages (from audiocraft) (5.28.0)\n",
            "Requirement already satisfied: pystoi in ./.venv/lib/python3.10/site-packages (from audiocraft) (0.4.1)\n",
            "Requirement already satisfied: sentencepiece in ./.venv/lib/python3.10/site-packages (from audiocraft) (0.2.0)\n",
            "Requirement already satisfied: soundfile in ./.venv/lib/python3.10/site-packages (from audiocraft) (0.12.1)\n",
            "Requirement already satisfied: spacy>=3.6.1 in ./.venv/lib/python3.10/site-packages (from audiocraft) (3.7.6)\n",
            "Requirement already satisfied: torch==2.1.0 in ./.venv/lib/python3.10/site-packages (from audiocraft) (2.1.0)\n",
            "Requirement already satisfied: torchaudio<2.1.2,>=2.0.0 in ./.venv/lib/python3.10/site-packages (from audiocraft) (2.1.0)\n",
            "Requirement already satisfied: torchmetrics in ./.venv/lib/python3.10/site-packages (from audiocraft) (1.4.1)\n",
            "Requirement already satisfied: torchtext==0.16.0 in ./.venv/lib/python3.10/site-packages (from audiocraft) (0.16.0)\n",
            "Requirement already satisfied: torchvision==0.16.0 in ./.venv/lib/python3.10/site-packages (from audiocraft) (0.16.0)\n",
            "Requirement already satisfied: tqdm in ./.venv/lib/python3.10/site-packages (from audiocraft) (4.66.5)\n",
            "Requirement already satisfied: transformers>=4.31.0 in ./.venv/lib/python3.10/site-packages (from audiocraft) (4.44.2)\n",
            "Requirement already satisfied: xformers<0.0.23 in ./.venv/lib/python3.10/site-packages (from audiocraft) (0.0.22.post7)\n",
            "Requirement already satisfied: nvidia-nccl-cu12==2.18.1 in ./.venv/lib/python3.10/site-packages (from torch==2.1.0->audiocraft) (2.18.1)\n",
            "Requirement already satisfied: triton==2.1.0 in ./.venv/lib/python3.10/site-packages (from torch==2.1.0->audiocraft) (2.1.0)\n",
            "Requirement already satisfied: networkx in ./.venv/lib/python3.10/site-packages (from torch==2.1.0->audiocraft) (3.3)\n",
            "Requirement already satisfied: nvidia-cublas-cu12==12.1.3.1 in ./.venv/lib/python3.10/site-packages (from torch==2.1.0->audiocraft) (12.1.3.1)\n",
            "Requirement already satisfied: sympy in ./.venv/lib/python3.10/site-packages (from torch==2.1.0->audiocraft) (1.13.2)\n",
            "Requirement already satisfied: nvidia-cusparse-cu12==12.1.0.106 in ./.venv/lib/python3.10/site-packages (from torch==2.1.0->audiocraft) (12.1.0.106)\n",
            "Requirement already satisfied: nvidia-curand-cu12==10.3.2.106 in ./.venv/lib/python3.10/site-packages (from torch==2.1.0->audiocraft) (10.3.2.106)\n",
            "Requirement already satisfied: typing-extensions in ./.venv/lib/python3.10/site-packages (from torch==2.1.0->audiocraft) (4.12.2)\n",
            "Requirement already satisfied: nvidia-cuda-cupti-cu12==12.1.105 in ./.venv/lib/python3.10/site-packages (from torch==2.1.0->audiocraft) (12.1.105)\n",
            "Requirement already satisfied: fsspec in ./.venv/lib/python3.10/site-packages (from torch==2.1.0->audiocraft) (2024.6.1)\n",
            "Requirement already satisfied: nvidia-cufft-cu12==11.0.2.54 in ./.venv/lib/python3.10/site-packages (from torch==2.1.0->audiocraft) (11.0.2.54)\n",
            "Requirement already satisfied: nvidia-nvtx-cu12==12.1.105 in ./.venv/lib/python3.10/site-packages (from torch==2.1.0->audiocraft) (12.1.105)\n",
            "Requirement already satisfied: nvidia-cuda-nvrtc-cu12==12.1.105 in ./.venv/lib/python3.10/site-packages (from torch==2.1.0->audiocraft) (12.1.105)\n",
            "Requirement already satisfied: nvidia-cusolver-cu12==11.4.5.107 in ./.venv/lib/python3.10/site-packages (from torch==2.1.0->audiocraft) (11.4.5.107)\n",
            "Requirement already satisfied: filelock in ./.venv/lib/python3.10/site-packages (from torch==2.1.0->audiocraft) (3.15.4)\n",
            "Requirement already satisfied: nvidia-cuda-runtime-cu12==12.1.105 in ./.venv/lib/python3.10/site-packages (from torch==2.1.0->audiocraft) (12.1.105)\n",
            "Requirement already satisfied: jinja2 in ./.venv/lib/python3.10/site-packages (from torch==2.1.0->audiocraft) (3.1.4)\n",
            "Requirement already satisfied: nvidia-cudnn-cu12==8.9.2.26 in ./.venv/lib/python3.10/site-packages (from torch==2.1.0->audiocraft) (8.9.2.26)\n",
            "Requirement already satisfied: torchdata==0.7.0 in ./.venv/lib/python3.10/site-packages (from torchtext==0.16.0->audiocraft) (0.7.0)\n",
            "Requirement already satisfied: requests in ./.venv/lib/python3.10/site-packages (from torchtext==0.16.0->audiocraft) (2.32.3)\n",
            "Requirement already satisfied: pillow!=8.3.*,>=5.3.0 in ./.venv/lib/python3.10/site-packages (from torchvision==0.16.0->audiocraft) (10.4.0)\n",
            "Requirement already satisfied: nvidia-nvjitlink-cu12 in ./.venv/lib/python3.10/site-packages (from nvidia-cusolver-cu12==11.4.5.107->torch==2.1.0->audiocraft) (12.6.68)\n",
            "Requirement already satisfied: urllib3>=1.25 in ./.venv/lib/python3.10/site-packages (from torchdata==0.7.0->torchtext==0.16.0->audiocraft) (2.2.2)\n",
            "Requirement already satisfied: colorlog in ./.venv/lib/python3.10/site-packages (from flashy>=0.0.1->audiocraft) (6.8.2)\n",
            "Requirement already satisfied: dora-search in ./.venv/lib/python3.10/site-packages (from flashy>=0.0.1->audiocraft) (0.1.12)\n",
            "Requirement already satisfied: antlr4-python3-runtime==4.9.* in ./.venv/lib/python3.10/site-packages (from hydra-core>=1.1->audiocraft) (4.9.3)\n",
            "Requirement already satisfied: omegaconf<2.4,>=2.2 in ./.venv/lib/python3.10/site-packages (from hydra-core>=1.1->audiocraft) (2.3.0)\n",
            "Requirement already satisfied: packaging in ./.venv/lib/python3.10/site-packages (from hydra-core>=1.1->audiocraft) (24.1)\n",
            "Requirement already satisfied: weasel<0.5.0,>=0.1.0 in ./.venv/lib/python3.10/site-packages (from spacy>=3.6.1->audiocraft) (0.4.1)\n",
            "Requirement already satisfied: cymem<2.1.0,>=2.0.2 in ./.venv/lib/python3.10/site-packages (from spacy>=3.6.1->audiocraft) (2.0.8)\n",
            "Requirement already satisfied: catalogue<2.1.0,>=2.0.6 in ./.venv/lib/python3.10/site-packages (from spacy>=3.6.1->audiocraft) (2.0.10)\n",
            "Requirement already satisfied: pydantic!=1.8,!=1.8.1,<3.0.0,>=1.7.4 in ./.venv/lib/python3.10/site-packages (from spacy>=3.6.1->audiocraft) (2.8.2)\n",
            "Requirement already satisfied: preshed<3.1.0,>=3.0.2 in ./.venv/lib/python3.10/site-packages (from spacy>=3.6.1->audiocraft) (3.0.9)\n",
            "Requirement already satisfied: typer<1.0.0,>=0.3.0 in ./.venv/lib/python3.10/site-packages (from spacy>=3.6.1->audiocraft) (0.12.5)\n",
            "Requirement already satisfied: wasabi<1.2.0,>=0.9.1 in ./.venv/lib/python3.10/site-packages (from spacy>=3.6.1->audiocraft) (1.1.3)\n",
            "Requirement already satisfied: spacy-legacy<3.1.0,>=3.0.11 in ./.venv/lib/python3.10/site-packages (from spacy>=3.6.1->audiocraft) (3.0.12)\n",
            "Requirement already satisfied: thinc<8.3.0,>=8.2.2 in ./.venv/lib/python3.10/site-packages (from spacy>=3.6.1->audiocraft) (8.2.5)\n",
            "Requirement already satisfied: spacy-loggers<2.0.0,>=1.0.0 in ./.venv/lib/python3.10/site-packages (from spacy>=3.6.1->audiocraft) (1.0.5)\n",
            "Requirement already satisfied: murmurhash<1.1.0,>=0.28.0 in ./.venv/lib/python3.10/site-packages (from spacy>=3.6.1->audiocraft) (1.0.10)\n",
            "Requirement already satisfied: srsly<3.0.0,>=2.4.3 in ./.venv/lib/python3.10/site-packages (from spacy>=3.6.1->audiocraft) (2.4.8)\n",
            "Requirement already satisfied: langcodes<4.0.0,>=3.2.0 in ./.venv/lib/python3.10/site-packages (from spacy>=3.6.1->audiocraft) (3.4.0)\n",
            "Requirement already satisfied: setuptools in ./.venv/lib/python3.10/site-packages (from spacy>=3.6.1->audiocraft) (59.6.0)\n",
            "Requirement already satisfied: tokenizers<0.20,>=0.19 in ./.venv/lib/python3.10/site-packages (from transformers>=4.31.0->audiocraft) (0.19.1)\n",
            "Requirement already satisfied: pyyaml>=5.1 in ./.venv/lib/python3.10/site-packages (from transformers>=4.31.0->audiocraft) (6.0.2)\n",
            "Requirement already satisfied: regex!=2019.12.17 in ./.venv/lib/python3.10/site-packages (from transformers>=4.31.0->audiocraft) (2024.7.24)\n",
            "Requirement already satisfied: safetensors>=0.4.1 in ./.venv/lib/python3.10/site-packages (from transformers>=4.31.0->audiocraft) (0.4.4)\n",
            "Requirement already satisfied: lameenc>=1.2 in ./.venv/lib/python3.10/site-packages (from demucs->audiocraft) (1.7.0)\n",
            "Requirement already satisfied: openunmix in ./.venv/lib/python3.10/site-packages (from demucs->audiocraft) (1.3.0)\n",
            "Requirement already satisfied: orjson~=3.0 in ./.venv/lib/python3.10/site-packages (from gradio->audiocraft) (3.10.7)\n",
            "Requirement already satisfied: tomlkit==0.12.0 in ./.venv/lib/python3.10/site-packages (from gradio->audiocraft) (0.12.0)\n",
            "Requirement already satisfied: matplotlib~=3.0 in ./.venv/lib/python3.10/site-packages (from gradio->audiocraft) (3.9.2)\n",
            "Requirement already satisfied: pydub in ./.venv/lib/python3.10/site-packages (from gradio->audiocraft) (0.25.1)\n",
            "Requirement already satisfied: ffmpy in ./.venv/lib/python3.10/site-packages (from gradio->audiocraft) (0.4.0)\n",
            "Requirement already satisfied: anyio<5.0,>=3.0 in ./.venv/lib/python3.10/site-packages (from gradio->audiocraft) (4.4.0)\n",
            "Requirement already satisfied: httpx>=0.24.1 in ./.venv/lib/python3.10/site-packages (from gradio->audiocraft) (0.27.2)\n",
            "Requirement already satisfied: python-multipart>=0.0.9 in ./.venv/lib/python3.10/site-packages (from gradio->audiocraft) (0.0.9)\n",
            "Requirement already satisfied: ruff>=0.2.2 in ./.venv/lib/python3.10/site-packages (from gradio->audiocraft) (0.6.3)\n",
            "Requirement already satisfied: markupsafe~=2.0 in ./.venv/lib/python3.10/site-packages (from gradio->audiocraft) (2.1.5)\n",
            "Requirement already satisfied: importlib-resources<7.0,>=1.3 in ./.venv/lib/python3.10/site-packages (from gradio->audiocraft) (6.4.4)\n",
            "Requirement already satisfied: uvicorn>=0.14.0 in ./.venv/lib/python3.10/site-packages (from gradio->audiocraft) (0.30.6)\n",
            "Requirement already satisfied: gradio-client==1.3.0 in ./.venv/lib/python3.10/site-packages (from gradio->audiocraft) (1.3.0)\n",
            "Requirement already satisfied: aiofiles<24.0,>=22.0 in ./.venv/lib/python3.10/site-packages (from gradio->audiocraft) (23.2.1)\n",
            "Requirement already satisfied: semantic-version~=2.0 in ./.venv/lib/python3.10/site-packages (from gradio->audiocraft) (2.10.0)\n",
            "Requirement already satisfied: fastapi in ./.venv/lib/python3.10/site-packages (from gradio->audiocraft) (0.112.2)\n",
            "Requirement already satisfied: pandas<3.0,>=1.0 in ./.venv/lib/python3.10/site-packages (from gradio->audiocraft) (2.2.2)\n",
            "Requirement already satisfied: websockets<13.0,>=10.0 in ./.venv/lib/python3.10/site-packages (from gradio-client==1.3.0->gradio->audiocraft) (12.0)\n",
            "Requirement already satisfied: decorator>=4.3.0 in ./.venv/lib/python3.10/site-packages (from librosa->audiocraft) (5.1.1)\n",
            "Requirement already satisfied: scipy>=1.2.0 in ./.venv/lib/python3.10/site-packages (from librosa->audiocraft) (1.14.1)\n",
            "Requirement already satisfied: numba>=0.51.0 in ./.venv/lib/python3.10/site-packages (from librosa->audiocraft) (0.60.0)\n",
            "Requirement already satisfied: pooch>=1.1 in ./.venv/lib/python3.10/site-packages (from librosa->audiocraft) (1.8.2)\n",
            "Requirement already satisfied: joblib>=0.14 in ./.venv/lib/python3.10/site-packages (from librosa->audiocraft) (1.4.2)\n",
            "Requirement already satisfied: lazy-loader>=0.1 in ./.venv/lib/python3.10/site-packages (from librosa->audiocraft) (0.4)\n",
            "Requirement already satisfied: scikit-learn>=0.20.0 in ./.venv/lib/python3.10/site-packages (from librosa->audiocraft) (1.5.1)\n",
            "Requirement already satisfied: msgpack>=1.0 in ./.venv/lib/python3.10/site-packages (from librosa->audiocraft) (1.0.8)\n",
            "Requirement already satisfied: soxr>=0.3.2 in ./.venv/lib/python3.10/site-packages (from librosa->audiocraft) (0.5.0.post1)\n",
            "Requirement already satisfied: audioread>=2.1.9 in ./.venv/lib/python3.10/site-packages (from librosa->audiocraft) (3.0.1)\n",
            "Requirement already satisfied: cffi>=1.0 in ./.venv/lib/python3.10/site-packages (from soundfile->audiocraft) (1.17.0)\n",
            "Requirement already satisfied: docopt>=0.6.2 in ./.venv/lib/python3.10/site-packages (from num2words->audiocraft) (0.6.2)\n",
            "Requirement already satisfied: lightning-utilities>=0.8.0 in ./.venv/lib/python3.10/site-packages (from torchmetrics->audiocraft) (0.11.7)\n",
            "Requirement already satisfied: idna>=2.8 in ./.venv/lib/python3.10/site-packages (from anyio<5.0,>=3.0->gradio->audiocraft) (3.8)\n",
            "Requirement already satisfied: sniffio>=1.1 in ./.venv/lib/python3.10/site-packages (from anyio<5.0,>=3.0->gradio->audiocraft) (1.3.1)\n",
            "Requirement already satisfied: exceptiongroup>=1.0.2 in ./.venv/lib/python3.10/site-packages (from anyio<5.0,>=3.0->gradio->audiocraft) (1.2.2)\n",
            "Requirement already satisfied: pycparser in ./.venv/lib/python3.10/site-packages (from cffi>=1.0->soundfile->audiocraft) (2.22)\n",
            "Requirement already satisfied: certifi in ./.venv/lib/python3.10/site-packages (from httpx>=0.24.1->gradio->audiocraft) (2024.8.30)\n",
            "Requirement already satisfied: httpcore==1.* in ./.venv/lib/python3.10/site-packages (from httpx>=0.24.1->gradio->audiocraft) (1.0.5)\n",
            "Requirement already satisfied: h11<0.15,>=0.13 in ./.venv/lib/python3.10/site-packages (from httpcore==1.*->httpx>=0.24.1->gradio->audiocraft) (0.14.0)\n",
            "Requirement already satisfied: language-data>=1.2 in ./.venv/lib/python3.10/site-packages (from langcodes<4.0.0,>=3.2.0->spacy>=3.6.1->audiocraft) (1.2.0)\n",
            "Requirement already satisfied: contourpy>=1.0.1 in ./.venv/lib/python3.10/site-packages (from matplotlib~=3.0->gradio->audiocraft) (1.3.0)\n",
            "Requirement already satisfied: kiwisolver>=1.3.1 in ./.venv/lib/python3.10/site-packages (from matplotlib~=3.0->gradio->audiocraft) (1.4.5)\n",
            "Requirement already satisfied: python-dateutil>=2.7 in ./.venv/lib/python3.10/site-packages (from matplotlib~=3.0->gradio->audiocraft) (2.9.0.post0)\n",
            "Requirement already satisfied: cycler>=0.10 in ./.venv/lib/python3.10/site-packages (from matplotlib~=3.0->gradio->audiocraft) (0.12.1)\n",
            "Requirement already satisfied: pyparsing>=2.3.1 in ./.venv/lib/python3.10/site-packages (from matplotlib~=3.0->gradio->audiocraft) (3.1.4)\n",
            "Requirement already satisfied: fonttools>=4.22.0 in ./.venv/lib/python3.10/site-packages (from matplotlib~=3.0->gradio->audiocraft) (4.53.1)\n",
            "Requirement already satisfied: llvmlite<0.44,>=0.43.0dev0 in ./.venv/lib/python3.10/site-packages (from numba>=0.51.0->librosa->audiocraft) (0.43.0)\n",
            "Requirement already satisfied: tzdata>=2022.7 in ./.venv/lib/python3.10/site-packages (from pandas<3.0,>=1.0->gradio->audiocraft) (2024.1)\n",
            "Requirement already satisfied: pytz>=2020.1 in ./.venv/lib/python3.10/site-packages (from pandas<3.0,>=1.0->gradio->audiocraft) (2024.1)\n",
            "Requirement already satisfied: platformdirs>=2.5.0 in ./.venv/lib/python3.10/site-packages (from pooch>=1.1->librosa->audiocraft) (4.2.2)\n",
            "Requirement already satisfied: annotated-types>=0.4.0 in ./.venv/lib/python3.10/site-packages (from pydantic!=1.8,!=1.8.1,<3.0.0,>=1.7.4->spacy>=3.6.1->audiocraft) (0.7.0)\n",
            "Requirement already satisfied: pydantic-core==2.20.1 in ./.venv/lib/python3.10/site-packages (from pydantic!=1.8,!=1.8.1,<3.0.0,>=1.7.4->spacy>=3.6.1->audiocraft) (2.20.1)\n",
            "Requirement already satisfied: charset-normalizer<4,>=2 in ./.venv/lib/python3.10/site-packages (from requests->torchtext==0.16.0->audiocraft) (3.3.2)\n",
            "Requirement already satisfied: threadpoolctl>=3.1.0 in ./.venv/lib/python3.10/site-packages (from scikit-learn>=0.20.0->librosa->audiocraft) (3.5.0)\n",
            "Requirement already satisfied: blis<0.8.0,>=0.7.8 in ./.venv/lib/python3.10/site-packages (from thinc<8.3.0,>=8.2.2->spacy>=3.6.1->audiocraft) (0.7.11)\n",
            "Requirement already satisfied: confection<1.0.0,>=0.0.1 in ./.venv/lib/python3.10/site-packages (from thinc<8.3.0,>=8.2.2->spacy>=3.6.1->audiocraft) (0.1.5)\n",
            "Requirement already satisfied: shellingham>=1.3.0 in ./.venv/lib/python3.10/site-packages (from typer<1.0.0,>=0.3.0->spacy>=3.6.1->audiocraft) (1.5.4)\n",
            "Requirement already satisfied: rich>=10.11.0 in ./.venv/lib/python3.10/site-packages (from typer<1.0.0,>=0.3.0->spacy>=3.6.1->audiocraft) (13.8.0)\n",
            "Requirement already satisfied: click>=8.0.0 in ./.venv/lib/python3.10/site-packages (from typer<1.0.0,>=0.3.0->spacy>=3.6.1->audiocraft) (8.1.7)\n",
            "Requirement already satisfied: cloudpathlib<1.0.0,>=0.7.0 in ./.venv/lib/python3.10/site-packages (from weasel<0.5.0,>=0.1.0->spacy>=3.6.1->audiocraft) (0.19.0)\n",
            "Requirement already satisfied: smart-open<8.0.0,>=5.2.1 in ./.venv/lib/python3.10/site-packages (from weasel<0.5.0,>=0.1.0->spacy>=3.6.1->audiocraft) (7.0.4)\n",
            "Requirement already satisfied: treetable in ./.venv/lib/python3.10/site-packages (from dora-search->flashy>=0.0.1->audiocraft) (0.2.5)\n",
            "Requirement already satisfied: submitit in ./.venv/lib/python3.10/site-packages (from dora-search->flashy>=0.0.1->audiocraft) (1.5.1)\n",
            "Requirement already satisfied: retrying in ./.venv/lib/python3.10/site-packages (from dora-search->flashy>=0.0.1->audiocraft) (1.3.4)\n",
            "Requirement already satisfied: starlette<0.39.0,>=0.37.2 in ./.venv/lib/python3.10/site-packages (from fastapi->gradio->audiocraft) (0.38.4)\n",
            "Requirement already satisfied: mpmath<1.4,>=1.1.0 in ./.venv/lib/python3.10/site-packages (from sympy->torch==2.1.0->audiocraft) (1.3.0)\n",
            "Requirement already satisfied: marisa-trie>=0.7.7 in ./.venv/lib/python3.10/site-packages (from language-data>=1.2->langcodes<4.0.0,>=3.2.0->spacy>=3.6.1->audiocraft) (1.2.0)\n",
            "Requirement already satisfied: six>=1.5 in ./.venv/lib/python3.10/site-packages (from python-dateutil>=2.7->matplotlib~=3.0->gradio->audiocraft) (1.16.0)\n",
            "Requirement already satisfied: pygments<3.0.0,>=2.13.0 in ./.venv/lib/python3.10/site-packages (from rich>=10.11.0->typer<1.0.0,>=0.3.0->spacy>=3.6.1->audiocraft) (2.18.0)\n",
            "Requirement already satisfied: markdown-it-py>=2.2.0 in ./.venv/lib/python3.10/site-packages (from rich>=10.11.0->typer<1.0.0,>=0.3.0->spacy>=3.6.1->audiocraft) (3.0.0)\n",
            "Requirement already satisfied: wrapt in ./.venv/lib/python3.10/site-packages (from smart-open<8.0.0,>=5.2.1->weasel<0.5.0,>=0.1.0->spacy>=3.6.1->audiocraft) (1.16.0)\n",
            "Requirement already satisfied: cloudpickle>=1.2.1 in ./.venv/lib/python3.10/site-packages (from submitit->dora-search->flashy>=0.0.1->audiocraft) (3.0.0)\n",
            "Requirement already satisfied: mdurl~=0.1 in ./.venv/lib/python3.10/site-packages (from markdown-it-py>=2.2.0->rich>=10.11.0->typer<1.0.0,>=0.3.0->spacy>=3.6.1->audiocraft) (0.1.2)\n"
          ]
        }
      ],
      "source": [
        "!python3 -m pip install -U git+https://github.com/facebookresearch/audiocraft#egg=audiocraft\n",
        "# !python3 -m pip install -U audiocraft"
      ]
    },
    {
      "cell_type": "code",
      "execution_count": 2,
      "metadata": {
        "id": "YVgeUMjoZaJH"
      },
      "outputs": [
        {
          "name": "stderr",
          "output_type": "stream",
          "text": [
            "/home/csi/MusicGen/.venv/lib/python3.10/site-packages/tqdm/auto.py:21: TqdmWarning: IProgress not found. Please update jupyter and ipywidgets. See https://ipywidgets.readthedocs.io/en/stable/user_install.html\n",
            "  from .autonotebook import tqdm as notebook_tqdm\n"
          ]
        }
      ],
      "source": [
        "from audiocraft.models import musicgen\n",
        "from audiocraft.utils.notebook import display_audio\n",
        "import torch\n",
        "\n",
        "import numpy as np\n",
        "import torch\n",
        "import scipy.io.wavfile as wavfile\n",
        "from IPython.display import FileLink"
      ]
    },
    {
      "cell_type": "code",
      "execution_count": 3,
      "metadata": {
        "id": "yc_FYhbWZufi"
      },
      "outputs": [
        {
          "name": "stderr",
          "output_type": "stream",
          "text": [
            "/home/csi/MusicGen/.venv/lib/python3.10/site-packages/audiocraft/models/musicgen.py:80: UserWarning: MusicGen pretrained model relying on deprecated checkpoint mapping. Please use full pre-trained id instead: facebook/musicgen-medium\n",
            "  warnings.warn(\n"
          ]
        },
        {
          "ename": "",
          "evalue": "",
          "output_type": "error",
          "traceback": [
            "\u001b[1;31mCannot execute code, session has been disposed. Please try restarting the Kernel."
          ]
        },
        {
          "ename": "",
          "evalue": "",
          "output_type": "error",
          "traceback": [
            "\u001b[1;31mThe Kernel crashed while executing code in the the current cell or a previous cell. Please review the code in the cell(s) to identify a possible cause of the failure. Click <a href='https://aka.ms/vscodeJupyterKernelCrash'>here</a> for more info. View Jupyter <a href='command:jupyter.viewOutput'>log</a> for further details."
          ]
        }
      ],
      "source": [
        "model = musicgen.MusicGen.get_pretrained('medium', device='cuda')\n",
        "model.set_generation_params(duration=10)"
      ]
    },
    {
      "cell_type": "code",
      "execution_count": null,
      "metadata": {
        "id": "32g-tH7IZz5N"
      },
      "outputs": [],
      "source": [
        "res = model.generate([\n",
        "    'A legato, oriental-inspired melody for solo synthesizer, featuring a warm, analog-like timbre with a mix of microtones and Middle Eastern modal inflections.',\n",
        "],\n",
        "    progress=True)\n",
        "display_audio(res, 32000)\n",
        "\n",
        "# Move the tensor to CPU if it's on GPU and convert to NumPy array\n",
        "audio = res.cpu().numpy()\n",
        "\n",
        "# Save the audio file\n",
        "filename = \"koto_shamisen_m.wav\"\n",
        "sample_rate = 32000  # Sample rate used in display_audio\n",
        "wavfile.write(filename, sample_rate, audio_data)\n",
        "\n",
        "# Provide a download link\n",
        "display(FileLink(filename))"
      ]
    },
    {
      "cell_type": "markdown",
      "metadata": {
        "id": "yP3FfELNw6_k"
      },
      "source": [
        "See our repo https://github.com/facebookresearch/audiocraft for more details on how to use this model!\n",
        "\n",
        "See also [MusicGen Gradio Demo](https://colab.research.google.com/drive/1-Xe9NCdIs2sCUbiSmwHXozK6AAhMm7_i?usp=sharing) for a Colab using the Gradio app instead!\n"
      ]
    },
    {
      "cell_type": "code",
      "execution_count": null,
      "metadata": {
        "id": "LMEhDDBWo-BS"
      },
      "outputs": [],
      "source": []
    },
    {
      "cell_type": "code",
      "execution_count": null,
      "metadata": {
        "id": "rojR90c5xFMY"
      },
      "outputs": [],
      "source": []
    }
  ],
  "metadata": {
    "accelerator": "GPU",
    "colab": {
      "gpuType": "T4",
      "provenance": []
    },
    "kernelspec": {
      "display_name": "Python 3",
      "name": "python3"
    },
    "language_info": {
      "codemirror_mode": {
        "name": "ipython",
        "version": 3
      },
      "file_extension": ".py",
      "mimetype": "text/x-python",
      "name": "python",
      "nbconvert_exporter": "python",
      "pygments_lexer": "ipython3",
      "version": "3.10.12"
    }
  },
  "nbformat": 4,
  "nbformat_minor": 0
}
